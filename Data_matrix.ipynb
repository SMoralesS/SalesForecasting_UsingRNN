{
 "cells": [
  {
   "cell_type": "code",
   "execution_count": null,
   "metadata": {},
   "outputs": [],
   "source": [
    "import numpy as np\n",
    "import sklearn as skl\n",
    "import matplotlib.pylab as plt\n",
    "import tensorflow as tf\n",
    "import pandas as pd\n",
    "from sklearn.model_selection import train_test_split"
   ]
  },
  {
   "cell_type": "code",
   "execution_count": null,
   "metadata": {
    "scrolled": true
   },
   "outputs": [],
   "source": [
    "sales = pd.read_csv(\"sales_train_v2.csv\")\n",
    "\n",
    "sales['date'] = pd.to_datetime(sales['date'], format='%d.%m.%Y')\n",
    "sales['month'] = sales['date'].dt.month\n",
    "sales['year'] = sales['date'].dt.year\n",
    "sales = sales.drop(['date','item_price'], axis=1)\n",
    "\n",
    "sales = sales.groupby([col for col in sales.columns if col not in ['item_cnt_day']], as_index=False)[['item_cnt_day']].sum()\n",
    "sales = sales.rename(columns={'item_cnt_day':'item_cnt_month'})\n",
    "\n",
    "np.zeros([len(set(sales.shop_id)),len(set(sales.item_id))])\n",
    "\n",
    "[[len(set(sales.shop_id)),len(set(sales.item_id))]]\n",
    "\n",
    "data = [[np.zeros(max(set(sales.item_id))+1) for i in range(max(set(sales.date_block_num))+1)] for j in range(max(set(sales.shop_id))+1)]\n",
    "\n",
    "for shop in set(sales.shop_id):\n",
    "    for date in set(sales.date_block_num[sales.shop_id==shop]):\n",
    "        for item in set(sales.item_id[sales.shop_id==shop][sales.date_block_num==date]):\n",
    "            data[shop][date][item]=float(sales[sales.shop_id==shop][sales.date_block_num==date][sales.item_id==item].item_cnt_month)"
   ]
  },
  {
   "cell_type": "code",
   "execution_count": null,
   "metadata": {},
   "outputs": [],
   "source": [
    "%store data"
   ]
  }
 ],
 "metadata": {
  "kernelspec": {
   "display_name": "Python 2",
   "language": "python",
   "name": "python2"
  },
  "language_info": {
   "codemirror_mode": {
    "name": "ipython",
    "version": 3
   },
   "file_extension": ".py",
   "mimetype": "text/x-python",
   "name": "python",
   "nbconvert_exporter": "python",
   "pygments_lexer": "ipython3",
   "version": "3.7.3"
  }
 },
 "nbformat": 4,
 "nbformat_minor": 2
}
